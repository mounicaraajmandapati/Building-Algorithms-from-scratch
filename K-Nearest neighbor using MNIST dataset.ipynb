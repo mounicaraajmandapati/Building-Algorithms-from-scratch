{
 "cells": [
  {
   "cell_type": "code",
   "execution_count": 1,
   "metadata": {},
   "outputs": [
    {
     "data": {
      "text/plain": [
       "'C:\\\\Users\\\\mandapmr\\\\Desktop\\\\Python-Learning-Creating-Algorithms-from-scratch'"
      ]
     },
     "execution_count": 1,
     "metadata": {},
     "output_type": "execute_result"
    }
   ],
   "source": [
    "#importing libraries\n",
    "import numpy as np\n",
    "import matplotlib.pyplot as plt\n",
    "import os\n",
    "os.getcwd()"
   ]
  },
  {
   "cell_type": "code",
   "execution_count": 2,
   "metadata": {},
   "outputs": [],
   "source": [
    "#changing working directory to point to file location\n",
    "os.chdir('C:\\\\Users\\\\mandapm\\\\Documents\\\\CS Class\\\\assgn2')"
   ]
  },
  {
   "cell_type": "code",
   "execution_count": 3,
   "metadata": {},
   "outputs": [],
   "source": [
    "# MNIST training images are downloaded and loaded as training_images \n",
    "training_images_file = open('train-images-idx3-ubyte','rb')\n",
    "training_images = training_images_file.read()\n",
    "training_images_file.close()"
   ]
  },
  {
   "cell_type": "code",
   "execution_count": 4,
   "metadata": {},
   "outputs": [],
   "source": [
    "# MNIST training labels are downloaded and loaded as training_labels\n",
    "training_labels_file = open('train-labels-idx1-ubyte','rb')\n",
    "training_labels = training_labels_file.read()\n",
    "training_labels_file.close()"
   ]
  },
  {
   "cell_type": "code",
   "execution_count": 5,
   "metadata": {},
   "outputs": [],
   "source": [
    "# MNIST test images are downloaded and loaded as test_images \n",
    "test_images_file = open('t10k-images-idx3-ubyte','rb')\n",
    "test_images = test_images_file.read()\n",
    "test_images_file.close()"
   ]
  },
  {
   "cell_type": "code",
   "execution_count": 6,
   "metadata": {},
   "outputs": [],
   "source": [
    "# MNIST test labels are downloaded and loaded as test_labels \n",
    "test_labels_file = open('t10k-labels-idx1-ubyte','rb')\n",
    "test_labels = test_labels_file.read()\n",
    "test_labels_file.close()"
   ]
  },
  {
   "cell_type": "code",
   "execution_count": 7,
   "metadata": {},
   "outputs": [],
   "source": [
    "#byte array function is used to convert to mutable array of bytes\n",
    "training_images = bytearray(training_images)\n",
    "training_labels = bytearray(training_labels)\n",
    "test_images = bytearray(test_images)\n",
    "test_labels = bytearray(test_labels)"
   ]
  },
  {
   "cell_type": "code",
   "execution_count": 8,
   "metadata": {},
   "outputs": [],
   "source": [
    "# Removing the descriptor values and shaping training images to 60000*784 array\n",
    "training_images = training_images[16:]\n",
    "training_images = np.array(training_images)\n",
    "train_X = training_images.reshape(60000,784)"
   ]
  },
  {
   "cell_type": "code",
   "execution_count": 9,
   "metadata": {},
   "outputs": [],
   "source": [
    "# Removing the descriptor values and shaping training labels to 60000*1 array\n",
    "training_labels = training_labels[8:]\n",
    "training_labels = np.array(training_labels)\n",
    "train_Y = training_labels.reshape(60000,1) "
   ]
  },
  {
   "cell_type": "code",
   "execution_count": 10,
   "metadata": {},
   "outputs": [],
   "source": [
    "# Removing the descriptor values and shaping test images to 10000*784 array\n",
    "test_images = test_images[16:]\n",
    "test_images = np.array(test_images)\n",
    "test_X = test_images.reshape(10000,784)"
   ]
  },
  {
   "cell_type": "code",
   "execution_count": 11,
   "metadata": {},
   "outputs": [],
   "source": [
    "# Removing the descriptor values and shaping test labels to 10000*1 array\n",
    "test_labels = test_labels[8:]\n",
    "test_labels = np.array(test_labels)\n",
    "test_Y = test_labels.reshape(10000,1)"
   ]
  },
  {
   "cell_type": "code",
   "execution_count": 12,
   "metadata": {},
   "outputs": [],
   "source": [
    "# Seperating the training data based on labels\n",
    "train_XY = np.concatenate((train_X,train_Y),axis=1)\n",
    "train_XY0 = train_XY[train_XY[:,784]==0]\n",
    "train_XY1 = train_XY[train_XY[:,784]==1]\n",
    "train_XY2 = train_XY[train_XY[:,784]==2]\n",
    "train_XY3 = train_XY[train_XY[:,784]==3]\n",
    "train_XY4 = train_XY[train_XY[:,784]==4]\n",
    "train_XY5 = train_XY[train_XY[:,784]==5]\n",
    "train_XY6 = train_XY[train_XY[:,784]==6]\n",
    "train_XY7 = train_XY[train_XY[:,784]==7]\n",
    "train_XY8 = train_XY[train_XY[:,784]==8]\n",
    "train_XY9 = train_XY[train_XY[:,784]==9]"
   ]
  },
  {
   "cell_type": "code",
   "execution_count": 13,
   "metadata": {},
   "outputs": [],
   "source": [
    "def plot_image(pixels: np.array):\n",
    "    plt.imshow(pixels.reshape((28, 28)), cmap='winter')\n",
    "    plt.show()"
   ]
  },
  {
   "cell_type": "code",
   "execution_count": 14,
   "metadata": {},
   "outputs": [],
   "source": [
    "def euclidean_distancen(n,X1,X2):\n",
    "    dist_near = np.full((n), np.Inf)\n",
    "    near_point_idx = np.full((n), 0)\n",
    "    x2 = np.array(X2,dtype = 'int')\n",
    "    for i in range(len(X1[:,0])):\n",
    "        x1 = np.array(X1[i],dtype = 'int')\n",
    "        dist= np.sqrt(np.sum((x1-x2)**2))\n",
    "        if dist < np.max(dist_near):\n",
    "            dist_near[np.argmax(dist_near)] = dist\n",
    "            near_point_idx[np.argmax(dist_near)]= i\n",
    "    near_point_sorted = near_point_idx[np.argsort(dist_near)]\n",
    "    return near_point_sorted"
   ]
  },
  {
   "cell_type": "code",
   "execution_count": 15,
   "metadata": {},
   "outputs": [
    {
     "name": "stdout",
     "output_type": "stream",
     "text": [
      "Best K = 3\n",
      "Validation Accuracy = 0.9216666666666666\n",
      "Test Accuracy = 0.9666666666666667\n",
      "correctly classified  1\n"
     ]
    },
    {
     "data": {
      "image/png": "[encoded data removed]",
      "text/plain": [
       "<Figure size 432x288 with 1 Axes>"
      ]
     },
     "metadata": {
      "needs_background": "light"
     },
     "output_type": "display_data"
    },
    {
     "name": "stdout",
     "output_type": "stream",
     "text": [
      "incorrectly classified  1\n"
     ]
    },
    {
     "data": {
      "image/png": "[encoded data removed]",
      "text/plain": [
       "<Figure size 432x288 with 1 Axes>"
      ]
     },
     "metadata": {
      "needs_background": "light"
     },
     "output_type": "display_data"
    },
    {
     "name": "stdout",
     "output_type": "stream",
     "text": [
      "correctly classified  2\n"
     ]
    },
    {
     "data": {
      "image/png": "[encoded data removed]",
      "text/plain": [
       "<Figure size 432x288 with 1 Axes>"
      ]
     },
     "metadata": {
      "needs_background": "light"
     },
     "output_type": "display_data"
    },
    {
     "name": "stdout",
     "output_type": "stream",
     "text": [
      "incorrectly classified  2\n"
     ]
    },
    {
     "data": {
      "image/png": "[encoded data removed]",
      "text/plain": [
       "<Figure size 432x288 with 1 Axes>"
      ]
     },
     "metadata": {
      "needs_background": "light"
     },
     "output_type": "display_data"
    },
    {
     "name": "stdout",
     "output_type": "stream",
     "text": [
      "correctly classified  7\n"
     ]
    },
    {
     "data": {
      "image/png": "[encoded data removed]",
      "text/plain": [
       "<Figure size 432x288 with 1 Axes>"
      ]
     },
     "metadata": {
      "needs_background": "light"
     },
     "output_type": "display_data"
    },
    {
     "name": "stdout",
     "output_type": "stream",
     "text": [
      "incorrectly classified  7\n"
     ]
    },
    {
     "data": {
      "image/png": "[encoded data removed]",
      "text/plain": [
       "<Figure size 432x288 with 1 Axes>"
      ]
     },
     "metadata": {
      "needs_background": "light"
     },
     "output_type": "display_data"
    }
   ],
   "source": [
    "def problem3():\n",
    "    indx = np.random.randint(low=0, high=5400, size=200)\n",
    "    dataset_3= np.concatenate((train_XY1[indx,:],train_XY2[indx,:],train_XY7[indx,:]),axis =0)\n",
    "    k_list = [1,3,5,7,9]\n",
    "    valid_accuracy = np.zeros((5,5))\n",
    "    for i in range(5):\n",
    "        mask = range (120*i,120*(i+1),1)\n",
    "        test_3P = dataset_3[mask]      \n",
    "        train_3P = dataset_3[[i for i in range(600) if not i in mask]]\n",
    "        Pred_Y,score = np.zeros((120,10)),np.zeros((120,10))\n",
    "        for j in range(120):\n",
    "            nearest_idx = euclidean_distancen(9,train_3P,test_3P[j])\n",
    "            for k in k_list:\n",
    "                nearest_ix = nearest_idx[0:k]\n",
    "                uniq,counts = np.zeros((k)),np.zeros((k))\n",
    "                uniq,counts = np.unique(train_3P[nearest_ix,784],return_counts = True)\n",
    "                if max(counts) > 1:\n",
    "                    Pred_Y[j,k] = uniq[np.argmax(counts)]\n",
    "                else:\n",
    "                    Pred_Y[j,k] = uniq[0]\n",
    "                if Pred_Y[j,k] == test_3P[j,784]:\n",
    "                    score[j,k] = True\n",
    "        valid_accuracy[i] = [np.sum([score[:,1]])/120,np.sum([score[:,3]])/120,np.sum([score[:,5]])/120,np.sum([score[:,7]])/120,np.sum([score[:,9]])/120]        \n",
    "    Accuracy = np.mean(valid_accuracy,axis = 0)\n",
    "    print('Best K =',k_list[np.argmax(Accuracy)])\n",
    "    print('Validation Accuracy =',np.max(Accuracy))\n",
    "    K= k_list[np.argmax(Accuracy)]\n",
    "    indxt = np.random.randint(low=0, high=5400, size=50)\n",
    "    dataset_3T= np.concatenate((train_XY1[indxt,:],train_XY2[indxt,:],train_XY7[indxt,:]),axis =0)\n",
    "    Pred_Y,score = np.zeros((120)),np.zeros((120))\n",
    "    for j in range(120):\n",
    "        nearest_ix = euclidean_distancen(K,train_3P,dataset_3T[j])\n",
    "        uniq,counts = np.zeros((K)),np.zeros((K))\n",
    "        uniq,counts = np.unique(train_3P[nearest_ix,784],return_counts = True)\n",
    "        if max(counts) > 1:\n",
    "                    Pred_Y[j] = uniq[np.argmax(counts)]\n",
    "        else:\n",
    "                    Pred_Y[j] = uniq[0]\n",
    "        if Pred_Y[j] == dataset_3T[j,784]:\n",
    "                    score[j] = True\n",
    "    test_accuracy = np.sum(score)/120        \n",
    "    print('Test Accuracy =',test_accuracy)\n",
    "    for i in [1,2,7]:\n",
    "        print('correctly classified ',i)\n",
    "        row= np.min((np.where(Pred_Y[0:150]==i) and np.where(dataset_3T[:,784]==i)))\n",
    "        plot_image(dataset_3T[row,0:784])\n",
    "        print('incorrectly classified ',i)\n",
    "        row= np.max((np.where(Pred_Y[0:150]==i) and np.where(dataset_3T[:,784]!=i)))\n",
    "        plot_image(dataset_3T[row,0:784])\n",
    "\n",
    "\n",
    "problem3()"
   ]
  }
 ],
 "metadata": {
  "kernelspec": {
   "display_name": "Python 3",
   "language": "python",
   "name": "python3"
  },
  "language_info": {
   "codemirror_mode": {
    "name": "ipython",
    "version": 3
   },
   "file_extension": ".py",
   "mimetype": "text/x-python",
   "name": "python",
   "nbconvert_exporter": "python",
   "pygments_lexer": "ipython3",
   "version": "3.7.3"
  }
 },
 "nbformat": 4,
 "nbformat_minor": 2
}
