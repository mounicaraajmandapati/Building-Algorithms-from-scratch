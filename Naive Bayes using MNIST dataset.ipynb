{
 "cells": [
  {
   "cell_type": "code",
   "execution_count": 1,
   "metadata": {},
   "outputs": [
    {
     "data": {
      "text/plain": [
       "'C:\\\\Users\\\\mandapmr\\\\Desktop\\\\Python-Learning-Creating-Algorithms-from-scratch'"
      ]
     },
     "execution_count": 1,
     "metadata": {},
     "output_type": "execute_result"
    }
   ],
   "source": [
    "#importing libraries\n",
    "import numpy as np\n",
    "import matplotlib.pyplot as plt\n",
    "import os\n",
    "os.getcwd()"
   ]
  },
  {
   "cell_type": "code",
   "execution_count": 2,
   "metadata": {},
   "outputs": [],
   "source": [
    "#changing working directory to point to file location\n",
    "os.chdir('C:\\\\Users\\\\mandapm\\\\Documents\\\\CS Class\\\\assgn2')"
   ]
  },
  {
   "cell_type": "code",
   "execution_count": 3,
   "metadata": {},
   "outputs": [],
   "source": [
    "# MNIST training images are downloaded and loaded as training_images \n",
    "training_images_file = open('train-images-idx3-ubyte','rb')\n",
    "training_images = training_images_file.read()\n",
    "training_images_file.close()"
   ]
  },
  {
   "cell_type": "code",
   "execution_count": 4,
   "metadata": {},
   "outputs": [],
   "source": [
    "# MNIST training labels are downloaded and loaded as training_labels\n",
    "training_labels_file = open('train-labels-idx1-ubyte','rb')\n",
    "training_labels = training_labels_file.read()\n",
    "training_labels_file.close()"
   ]
  },
  {
   "cell_type": "code",
   "execution_count": 5,
   "metadata": {},
   "outputs": [],
   "source": [
    "# MNIST test images are downloaded and loaded as test_images \n",
    "test_images_file = open('t10k-images-idx3-ubyte','rb')\n",
    "test_images = test_images_file.read()\n",
    "test_images_file.close()"
   ]
  },
  {
   "cell_type": "code",
   "execution_count": 6,
   "metadata": {},
   "outputs": [],
   "source": [
    "# MNIST test labels are downloaded and loaded as test_labels \n",
    "test_labels_file = open('t10k-labels-idx1-ubyte','rb')\n",
    "test_labels = test_labels_file.read()\n",
    "test_labels_file.close()"
   ]
  },
  {
   "cell_type": "code",
   "execution_count": 7,
   "metadata": {},
   "outputs": [],
   "source": [
    "#byte array function is used to convert to mutable array of bytes\n",
    "training_images = bytearray(training_images)\n",
    "training_labels = bytearray(training_labels)\n",
    "test_images = bytearray(test_images)\n",
    "test_labels = bytearray(test_labels)"
   ]
  },
  {
   "cell_type": "code",
   "execution_count": 8,
   "metadata": {},
   "outputs": [],
   "source": [
    "# Removing the descriptor values and shaping training images to 60000*784 array\n",
    "training_images = training_images[16:]\n",
    "training_images = np.array(training_images)\n",
    "train_X = training_images.reshape(60000,784)"
   ]
  },
  {
   "cell_type": "code",
   "execution_count": 9,
   "metadata": {},
   "outputs": [],
   "source": [
    "# Removing the descriptor values and shaping training labels to 60000*1 array\n",
    "training_labels = training_labels[8:]\n",
    "training_labels = np.array(training_labels)\n",
    "train_Y = training_labels.reshape(60000,1)    "
   ]
  },
  {
   "cell_type": "code",
   "execution_count": 10,
   "metadata": {},
   "outputs": [],
   "source": [
    "# Removing the descriptor values and shaping test images to 10000*784 array\n",
    "test_images = test_images[16:]\n",
    "test_images = np.array(test_images)\n",
    "test_X = test_images.reshape(10000,784)"
   ]
  },
  {
   "cell_type": "code",
   "execution_count": 11,
   "metadata": {},
   "outputs": [],
   "source": [
    "# Removing the descriptor values and shaping test labels to 10000*1 array\n",
    "test_labels = test_labels[8:]\n",
    "test_labels = np.array(test_labels)\n",
    "test_Y = test_labels.reshape(10000,1)"
   ]
  },
  {
   "cell_type": "code",
   "execution_count": 12,
   "metadata": {},
   "outputs": [],
   "source": [
    "# Seperating the training data based on labels\n",
    "train_XY = np.concatenate((train_X,train_Y),axis=1)\n",
    "train_XY0 = train_XY[train_XY[:,784]==0]\n",
    "train_XY1 = train_XY[train_XY[:,784]==1]\n",
    "train_XY2 = train_XY[train_XY[:,784]==2]\n",
    "train_XY3 = train_XY[train_XY[:,784]==3]\n",
    "train_XY4 = train_XY[train_XY[:,784]==4]\n",
    "train_XY5 = train_XY[train_XY[:,784]==5]\n",
    "train_XY6 = train_XY[train_XY[:,784]==6]\n",
    "train_XY7 = train_XY[train_XY[:,784]==7]\n",
    "train_XY8 = train_XY[train_XY[:,784]==8]\n",
    "train_XY9 = train_XY[train_XY[:,784]==9]"
   ]
  },
  {
   "cell_type": "code",
   "execution_count": 13,
   "metadata": {},
   "outputs": [
    {
     "name": "stdout",
     "output_type": "stream",
     "text": [
      "Niave Bayes accuracy (with Dirichlet prior) is 0.6691\n"
     ]
    }
   ],
   "source": [
    "#creating a naive bayes classifier\n",
    "def problem1():\n",
    "    train_bx = np.zeros(train_X.shape)\n",
    "    train_bx[train_X > 0] = 1\n",
    "    train_bdata = np.concatenate((train_bx,train_Y),axis=1)\n",
    "    count = np.zeros((10))\n",
    "    sum_x,Thetakd = np.zeros((10,784)),np.zeros((10,784))\n",
    "    for k in range(10):\n",
    "        count[k] = np.sum([train_Y == k])\n",
    "        sum_x[k] = np.sum(train_bx[train_bdata[:,784]==k],axis = 0)\n",
    "        Thetakd[k] = (count[k]+1)/(sum_x[k]+10)\n",
    "    test_X[test_X > 0] = 1\n",
    "    Prob_Y10 = np.dot(test_X,1-(Thetakd.T))\n",
    "    Pred_Y_index = np.array(np.argmax(Prob_Y10, axis=1))\n",
    "    correct =0\n",
    "    for i in range(10000):\n",
    "        if Pred_Y_index[i]==test_Y[i]:\n",
    "            correct = correct+1\n",
    "    print('Naive Bayes accuracy (with Dirichlet prior) is',correct/10000)\n",
    "    \n",
    "problem1()"
   ]
  },
  {
   "cell_type": "code",
   "execution_count": 14,
   "metadata": {},
   "outputs": [],
   "source": [
    "# Function to plot ROC curve\n",
    "def plot_roc_curve(fpr, tpr):\n",
    "    plt.plot(fpr, tpr,color='orange')\n",
    "    plt.plot([0, 1], [0, 1], color='darkblue', linestyle='--')\n",
    "    plt.xlabel('False Positive Rate')\n",
    "    plt.ylabel('True Positive Rate')\n",
    "    plt.title('ROC Curve')\n",
    "    plt.show()"
   ]
  },
  {
   "cell_type": "code",
   "execution_count": 15,
   "metadata": {},
   "outputs": [
    {
     "data": {
      "image/png": "[encoded data removed]",
      "text/plain": [
       "<Figure size 432x288 with 1 Axes>"
      ]
     },
     "metadata": {
      "needs_background": "light"
     },
     "output_type": "display_data"
    }
   ],
   "source": [
    "# Naive Bayes Gaussian\n",
    "def problem2():\n",
    "    ind5 = np.random.randint(low=0, high=5421, size=1000)\n",
    "    ind = np.random.randint(low=0, high=5400, size=111)\n",
    "    dataset_2= np.concatenate((train_XY5[ind5,:],train_XY0[ind,:],train_XY1[ind,:],train_XY2[ind,:],train_XY3[ind,:],train_XY4[ind,:],train_XY6[ind,:],train_XY7[ind,:],train_XY8[ind,:],train_XY9[ind,:]),axis =0)\n",
    "    dataset_2[0:1000,784] = 1\n",
    "    dataset_2[1000:,784] = 0\n",
    "    mask = np.random.rand(1999)<0.1\n",
    "    train_P2 = dataset_2[mask]\n",
    "    mask_test = np.logical_not(mask)\n",
    "    test_P2 = dataset_2[mask_test]\n",
    "    Mean_class1 = np.mean(train_P2[train_P2[:,784]==1],axis = 0)\n",
    "    Mean_class0 = np.mean(train_P2[train_P2[:,784]==0],axis = 0)\n",
    "    Var_class1 = np.var(train_P2[train_P2[:,784]==1])\n",
    "    Var_class0 = np.var(train_P2[train_P2[:,784]==0])\n",
    "    cons = np.zeros((len(test_P2[:,0])))\n",
    "    Pred_Y = np.zeros((len(test_P2[:,0])))\n",
    "    for n in range(len(test_P2[:,0])): \n",
    "        P =(((test_P2[n,0:784] - Mean_class0[0:784])**2)/(2* Var_class0)) - (((test_P2[n,0:784] - Mean_class1[0:784])**2)/(2* Var_class1))\n",
    "        cons[n] = int(np.sum(P) - ((np.log(Var_class1/Var_class0))*784))\n",
    "    tpr,fpr = [],[]\n",
    "    for tou in range(-200,200, 1):\n",
    "        fp,tp = 0,0\n",
    "        for n in range(len(test_P2[:,0])):\n",
    "            if tou < cons[n]:\n",
    "                Pred_Y[n]= 1\n",
    "                if test_P2[n,784] ==1:\n",
    "                    tp = tp+1\n",
    "                else:\n",
    "                    fp = fp+1\n",
    "        tpr = np.append(tpr,tp/np.sum(test_P2[:,784]==1))\n",
    "        fpr = np.append(fpr,fp/np.sum(test_P2[:,784]==1))\n",
    "    plot_roc_curve(fpr, tpr)\n",
    "    \n",
    "problem2()"
   ]
  }
 ],
 "metadata": {
  "kernelspec": {
   "display_name": "Python 3",
   "language": "python",
   "name": "python3"
  },
  "language_info": {
   "codemirror_mode": {
    "name": "ipython",
    "version": 3
   },
   "file_extension": ".py",
   "mimetype": "text/x-python",
   "name": "python",
   "nbconvert_exporter": "python",
   "pygments_lexer": "ipython3",
   "version": "3.7.3"
  }
 },
 "nbformat": 4,
 "nbformat_minor": 2
}
