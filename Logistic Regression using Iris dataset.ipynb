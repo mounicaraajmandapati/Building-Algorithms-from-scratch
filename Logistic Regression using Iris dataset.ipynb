{
 "cells": [
  {
   "cell_type": "code",
   "execution_count": 4,
   "metadata": {},
   "outputs": [
    {
     "data": {
      "text/plain": [
       "'C:\\\\Users\\\\mandapm\\\\Documents\\\\CS Class'"
      ]
     },
     "execution_count": 4,
     "metadata": {},
     "output_type": "execute_result"
    }
   ],
   "source": [
    "# Importing libraries\n",
    "import numpy as np\n",
    "import matplotlib.pyplot as plt\n",
    "from scipy.optimize import minimize\n",
    "import os\n",
    "os.getcwd()"
   ]
  },
  {
   "cell_type": "code",
   "execution_count": 5,
   "metadata": {},
   "outputs": [],
   "source": [
    "#changing working directory to point to file location\n",
    "os.chdir('C:\\\\Users\\\\mandapm\\\\Documents\\\\CS Class\\\\assgn2')"
   ]
  },
  {
   "cell_type": "code",
   "execution_count": 6,
   "metadata": {},
   "outputs": [],
   "source": [
    "# function for logitic regression on Iris dataset\n",
    "def problem4():\n",
    "    def flower_to_float(s):\n",
    "        d = {b'Iris-setosa':0.,b'Iris-versicolor':1.,b'Iris-virginica':2.}\n",
    "        return d[s]\n",
    "    irises = np.loadtxt('iris.data',delimiter=',',converters={4:flower_to_float})\n",
    "    data = irises[:,0:4]\n",
    "    data = np.insert(data, 0, 1,axis=1)\n",
    "    label = irises[:,4]\n",
    "    labels = np.zeros((150,3))\n",
    "    for l in range(3):\n",
    "        dummy = label == l\n",
    "        labels[dummy,l] = 1\n",
    "    full_data = np.concatenate((data,labels),axis=1)\n",
    "    train = np.zeros((75,8))\n",
    "    test = np.zeros((75,8))\n",
    "    for l in range(3): \n",
    "        sample = full_data[full_data[:,5+l] == 1]\n",
    "        np.random.seed(seed=30)\n",
    "        idx = np.random.choice(range(50), 25, replace=False)\n",
    "        train[25*l:25*(l+1)] = sample[idx]\n",
    "        test_idx = np.setdiff1d(range(50), idx)\n",
    "        test[25*l:25*(l+1)] = sample[test_idx]\n",
    "\n",
    "    xtrain = train[:,0:5]\n",
    "    ytrain  = train[:,5:]  \n",
    "\n",
    "    xtest = test[:,0:5]\n",
    "    ytest  = test[:,5:]  \n",
    "\n",
    "    a = 0.003126   \n",
    "    def f(w):\n",
    "        prior = (a/2)*np.dot(w.T,w)\n",
    "        tot_fn1,tot_fn2 = 0,0\n",
    "        for k in range(3):\n",
    "            fn1 = np.exp(np.dot(w[5*k:5*(k+1)].T,xtrain.T))\n",
    "            tot_fn1+= fn1\n",
    "            log_tot_fn1 = np.sum(np.log(tot_fn1))\n",
    "            fn2 = np.sum(ytrain[:,k]*(np.dot(w[5*k:5*(k+1)].T,xtrain.T)))\n",
    "            tot_fn2 += fn2\n",
    "        return prior - (tot_fn2 -log_tot_fn1)\n",
    "\n",
    "    w_init = np.ones(15)\n",
    "    w_hat  = minimize(f,w_init).x\n",
    "\n",
    "    z = np.zeros((3,75))\n",
    "    exp_z = np.zeros((3,75))\n",
    "    sum_exp_z = 0\n",
    "    for k in range(3):\n",
    "        z[k] = np.dot(w_hat[k*5:(k+1)*5].T,xtest.T)\n",
    "        exp_z[k] = np.exp(z[k])\n",
    "        sum_exp_z = sum_exp_z+exp_z[k]\n",
    "\n",
    "    s = z/sum_exp_z\n",
    "    test_predictions = np.argmax(s, axis=0)\n",
    "    test_actual = np.argmax(ytest.T, axis=0)\n",
    "    accuracy = (np.sum(test_predictions==test_actual))/75\n",
    "    print('Logistic regression accuracy on test set: ',round(accuracy,4))"
   ]
  },
  {
   "cell_type": "code",
   "execution_count": 7,
   "metadata": {},
   "outputs": [
    {
     "name": "stdout",
     "output_type": "stream",
     "text": [
      "Logistic regression accuracy on test set:  0.9867\n"
     ]
    }
   ],
   "source": [
    "problem4()"
   ]
  },
  {
   "cell_type": "code",
   "execution_count": null,
   "metadata": {},
   "outputs": [],
   "source": []
  }
 ],
 "metadata": {
  "kernelspec": {
   "display_name": "Python 3",
   "language": "python",
   "name": "python3"
  },
  "language_info": {
   "codemirror_mode": {
    "name": "ipython",
    "version": 3
   },
   "file_extension": ".py",
   "mimetype": "text/x-python",
   "name": "python",
   "nbconvert_exporter": "python",
   "pygments_lexer": "ipython3",
   "version": "3.7.3"
  }
 },
 "nbformat": 4,
 "nbformat_minor": 2
}
