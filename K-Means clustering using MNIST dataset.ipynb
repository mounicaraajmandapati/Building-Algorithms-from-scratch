{
 "cells": [
  {
   "cell_type": "code",
   "execution_count": 73,
   "metadata": {},
   "outputs": [
    {
     "data": {
      "text/plain": [
       "'C:\\\\Users\\\\mandapm\\\\Documents\\\\CS Class\\\\assgn4'"
      ]
     },
     "execution_count": 73,
     "metadata": {},
     "output_type": "execute_result"
    }
   ],
   "source": [
    "# Importing Libraries\n",
    "import numpy as np\n",
    "import matplotlib.pyplot as plt\n",
    "import random\n",
    "import os\n",
    "os.getcwd()"
   ]
  },
  {
   "cell_type": "code",
   "execution_count": 74,
   "metadata": {},
   "outputs": [],
   "source": [
    "#changing working directory to point to file location\n",
    "os.chdir('C:\\\\Users\\\\mandapm\\\\Documents\\\\CS Class\\\\assgn4')"
   ]
  },
  {
   "cell_type": "code",
   "execution_count": 75,
   "metadata": {},
   "outputs": [],
   "source": [
    "# function to plot images\n",
    "def plot_image(pixels: np.array):\n",
    "    plt.imshow(pixels.reshape((28, 28)), cmap='winter')\n",
    "    plt.show()"
   ]
  },
  {
   "cell_type": "code",
   "execution_count": 76,
   "metadata": {},
   "outputs": [],
   "source": [
    "# function for 3 initializations: Random, K-means++ , known initialization\n",
    "def initialize(init,X,k,Y):\n",
    "    mu = np.zeros((k,784))\n",
    "    if init ==1: # ten random data points \n",
    "        sequence = [i for i in range(10000)]\n",
    "        subset = random.sample(sequence, 10)\n",
    "        mu_init = X[subset,:]\n",
    "    elif init ==2: #ten points using k-means++\n",
    "        sequence = [i for i in range(10000)]\n",
    "        subset = random.sample(sequence, 1)\n",
    "        for i in range(k):\n",
    "            if i ==0:\n",
    "                    j=subset\n",
    "            mu[i]=X[j,:]\n",
    "            dist = np.sum((X-mu[i])**2,axis=1)\n",
    "            j = np.argmax(dist.reshape(-1,1),axis=0)\n",
    "        mu_init = mu\n",
    "    else: # datapoint chosen from each labeled class\n",
    "        subset = np.zeros((k,784))\n",
    "        for l in range(k):\n",
    "            ind = np.random.randint(low=0, high=500, size=1)\n",
    "            selected_y = X[Y[:,0]==l]\n",
    "            subset[l] = selected_y[ind]\n",
    "        mu_init = subset\n",
    "    return mu_init"
   ]
  },
  {
   "cell_type": "code",
   "execution_count": 77,
   "metadata": {},
   "outputs": [],
   "source": [
    "# function to assign a point to cluster mean\n",
    "def kmeans_assignment(mu,X,k):\n",
    "    z = np.zeros((len(X[:,0]),k))\n",
    "    for i in range(len(X[:,0])):\n",
    "        x1 = np.array(X[i],dtype = 'int')\n",
    "        dist = np.zeros(k)\n",
    "        for j in range(k):\n",
    "            x2 = np.array(mu[j])\n",
    "            dist[j]= np.sqrt(np.sum((x1-x2)**2))\n",
    "        z[i,np.argmin(dist)]=1\n",
    "    return z\n",
    "\n",
    "# function to update mean after assigning all points to their clusters.\n",
    "def kmeans_meanupdate(z,k,X):\n",
    "    N = np.sum(z.T,axis = 1).reshape(1,k)\n",
    "    mu_new = np.zeros((k,784))\n",
    "    a = np.dot(z.T,X)\n",
    "    for l in range(k):\n",
    "        mu_new[l] = a[l]/N[0,l]\n",
    "    return mu_new \n",
    "\n",
    "# function to iterate and perform K-means clustering until convergence\n",
    "def kmeans_iterations(mu,X,k,i=0,z=0):\n",
    "    if i == 0:\n",
    "        z = kmeans_assignment(mu,X,k)\n",
    "        mu = kmeans_meanupdate(z,k,X)\n",
    "    z_new = kmeans_assignment(mu,X,k)\n",
    "    mu_new = np.around(kmeans_meanupdate(z_new,k,X),decimals =1)\n",
    "    print('.', end =\"\")\n",
    "    if np.array_equal(z_new, z):\n",
    "        if np.array_equal(mu_new,mu):\n",
    "            print('\\n',i,' iterations, ',end = '')\n",
    "            J=0\n",
    "            fig, ax = plt.subplots(int(k/int(k/2)),int(k/2))\n",
    "            for i, ax in enumerate(ax.flatten()):\n",
    "                 ind = z_new[:,i]==1\n",
    "                 J += np.sum((X[ind]-mu_new[i])**2)\n",
    "                 X_K = X[ind]\n",
    "                 plottable_image = np.reshape(X_K[9,0:784], (28, 28))\n",
    "                 ax.imshow(plottable_image, cmap='winter')\n",
    "            print('J = ',J)\n",
    "            print('Few randomly chosen representatives from data for each class')\n",
    "            plt.show()             \n",
    "    else:\n",
    "        kmeans_iterations(mu=mu_new,X=X,k=k,i=i+1,z=z_new)\n",
    "    return mu_new"
   ]
  },
  {
   "cell_type": "code",
   "execution_count": 78,
   "metadata": {},
   "outputs": [
    {
     "name": "stdout",
     "output_type": "stream",
     "text": [
      "Random Initialization\n",
      "...................................................\n",
      " 50  iterations, J =  25318371989.86999\n",
      "Few randomly chosen representatives from data for each class\n"
     ]
    },
    {
     "data": {
      "image/png": "[encoded data removed]",
      "text/plain": [
       "<Figure size 432x288 with 10 Axes>"
      ]
     },
     "metadata": {
      "needs_background": "light"
     },
     "output_type": "display_data"
    },
    {
     "name": "stdout",
     "output_type": "stream",
     "text": [
      "Cheating Initialization\n",
      "....................................................\n",
      " 51  iterations, J =  25465382391.809994\n",
      "Few randomly chosen representatives from data for each class\n"
     ]
    },
    {
     "data": {
      "image/png": "[encoded data removed]",
      "text/plain": [
       "<Figure size 432x288 with 10 Axes>"
      ]
     },
     "metadata": {
      "needs_background": "light"
     },
     "output_type": "display_data"
    },
    {
     "name": "stdout",
     "output_type": "stream",
     "text": [
      "For 3 clusters and K-means++ initialization\n",
      ".........................\n",
      " 24  iterations, J =  30394431825.610016\n",
      "Few randomly chosen representatives from data for each class\n"
     ]
    },
    {
     "data": {
      "image/png": "[encoded data removed]",
      "text/plain": [
       "<Figure size 432x288 with 3 Axes>"
      ]
     },
     "metadata": {
      "needs_background": "light"
     },
     "output_type": "display_data"
    },
    {
     "name": "stdout",
     "output_type": "stream",
     "text": [
      "Cluster means images\n"
     ]
    },
    {
     "data": {
      "image/png": "[encoded data removed]",
      "text/plain": [
       "<Figure size 432x288 with 3 Axes>"
      ]
     },
     "metadata": {
      "needs_background": "light"
     },
     "output_type": "display_data"
    }
   ],
   "source": [
    "# function to use KNN with 3 different initializations on MNIST dataset images \n",
    "def problem2():\n",
    "    test_images_file = open('t10k-images-idx3-ubyte','rb')\n",
    "    test_images = test_images_file.read()\n",
    "    test_images_file.close()\n",
    "        \n",
    "    test_labels_file = open('t10k-labels-idx1-ubyte','rb')\n",
    "    test_labels = test_labels_file.read()\n",
    "    test_labels_file.close()\n",
    "\n",
    "    test_images = bytearray(test_images)\n",
    "    test_labels = bytearray(test_labels)\n",
    "    \n",
    "    test_images = test_images[16:]\n",
    "    test_images = np.array(test_images)\n",
    "    X = test_images.reshape(10000,784) \n",
    "    X = np.array(X,dtype = 'int').reshape(10000,784)\n",
    "    \n",
    "    test_labels = test_labels[8:]\n",
    "    test_labels = np.array(test_labels)\n",
    "    Y = test_labels.reshape(10000,1)\n",
    "    \n",
    "    print('Random Initialization')\n",
    "    mu_init1 = initialize(init = 1,X=X,k=10,Y=Y) \n",
    "    kmeans_iterations(mu = mu_init1,X=X,k=10)\n",
    "    #print('k-means++ initialization')\n",
    "    #mu_init2 =  initialize(init = 2,X=X,k=10,Y=Y)\n",
    "    #kmeans_iterations(mu = mu_init2,X=X,k=10)\n",
    "    print('Cheating Initialization')\n",
    "    mu_init3 = initialize(init = 3,X=X,k=10,Y=Y)\n",
    "    kmeans_iterations(mu = mu_init3,X=X,k=10)\n",
    "    print('For 3 clusters and K-means++ initialization')\n",
    "    mu_init4 = initialize(init = 2,X=X,k=3,Y=Y)\n",
    "    mu_final4 = kmeans_iterations(mu = mu_init4,X=X,k=3)\n",
    "    fig, ax = plt.subplots(1,3)\n",
    "    print('Cluster means images')\n",
    "    for i, ax in enumerate(ax.flatten()):\n",
    "                 plottable_image = np.reshape(mu_final4[i,0:784], (28, 28))\n",
    "                 ax.imshow(plottable_image, cmap='winter')\n",
    "    plt.show()\n",
    "    \n",
    "problem2()"
   ]
  },
  {
   "cell_type": "code",
   "execution_count": null,
   "metadata": {},
   "outputs": [],
   "source": []
  }
 ],
 "metadata": {
  "kernelspec": {
   "display_name": "Python 3",
   "language": "python",
   "name": "python3"
  },
  "language_info": {
   "codemirror_mode": {
    "name": "ipython",
    "version": 3
   },
   "file_extension": ".py",
   "mimetype": "text/x-python",
   "name": "python",
   "nbconvert_exporter": "python",
   "pygments_lexer": "ipython3",
   "version": "3.7.3"
  }
 },
 "nbformat": 4,
 "nbformat_minor": 2
}
